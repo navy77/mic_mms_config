{
 "cells": [
  {
   "cell_type": "code",
   "execution_count": 22,
   "metadata": {},
   "outputs": [],
   "source": [
    "import requests\n",
    "from influxdb import InfluxDBClient\n",
    "import pandas as pd \n",
    "from datetime import datetime\n",
    "influx_server = '192.168.0.160'\n",
    "influx_user_login = 'admin'\n",
    "influx_password = 'admin'\n",
    "influx_database = 'influx'\n"
   ]
  },
  {
   "cell_type": "code",
   "execution_count": 122,
   "metadata": {},
   "outputs": [],
   "source": [
    "def lastone() :\n",
    "        try:\n",
    "            result_lists = []\n",
    "            client = InfluxDBClient(influx_server, 8086, influx_user_login,influx_password, influx_database)\n",
    "            query = f\"select time,topic,lot,output from mqtt_consumer where topic = 'data/test' order by time desc limit 10\"\n",
    "            result = client.query(query)\n",
    "            result_df = pd.DataFrame(result.get_points())\n",
    "            result_lists.append(result_df)\n",
    "            df = pd.concat(result_lists, ignore_index=True)\n",
    "            \n",
    "            df[\"time\"] =   pd.to_datetime(df[\"time\"]).dt.tz_convert(None)\n",
    "            df[\"time\"] = df[\"time\"] + pd.DateOffset(hours=7)    \n",
    "            df[\"time\"] = df['time'].apply(lambda x: x.strftime('%Y-%m-%d %H:%M:%S.%f')[:-3])\n",
    "            df['time'] = pd.to_datetime(df['time'])\n",
    "\n",
    "            df.to_excel('output_file.xlsx', index=False)\n",
    "            selected_rows = df[df['time'].dt.time > datetime.strptime('09:56:00', '%H:%M:%S').time()]\n",
    "            print(df)\n",
    "\n",
    "        except Exception as e:\n",
    "            print(e)"
   ]
  },
  {
   "cell_type": "code",
   "execution_count": 123,
   "metadata": {},
   "outputs": [
    {
     "name": "stdout",
     "output_type": "stream",
     "text": [
      "                     time      topic       lot  output\n",
      "0 2024-02-27 09:57:31.952  data/test  ABCDEFGH   100.0\n",
      "1 2024-02-27 09:57:28.921  data/test  ABCDEFGH    50.0\n",
      "2 2024-02-27 09:57:26.918  data/test  ABCDEFGH     0.0\n",
      "3 2024-02-27 09:55:51.435  data/test  ABCDEFGH   450.0\n",
      "4 2024-02-27 09:55:51.167  data/test  ABCDEFGH   400.0\n",
      "5 2024-02-27 09:55:50.941  data/test  ABCDEFGH   350.0\n",
      "6 2024-02-27 09:55:50.619  data/test  ABCDEFGH   300.0\n",
      "7 2024-02-27 09:55:50.412  data/test  ABCDEFGH   250.0\n",
      "8 2024-02-27 09:55:50.167  data/test  ABCDEFGH   200.0\n",
      "9 2024-02-27 09:55:49.734  data/test  ABCDEFGH   150.0\n",
      "None\n"
     ]
    }
   ],
   "source": [
    "print(lastone())\n"
   ]
  },
  {
   "cell_type": "code",
   "execution_count": null,
   "metadata": {},
   "outputs": [],
   "source": []
  }
 ],
 "metadata": {
  "kernelspec": {
   "display_name": "Python 3",
   "language": "python",
   "name": "python3"
  },
  "language_info": {
   "codemirror_mode": {
    "name": "ipython",
    "version": 3
   },
   "file_extension": ".py",
   "mimetype": "text/x-python",
   "name": "python",
   "nbconvert_exporter": "python",
   "pygments_lexer": "ipython3",
   "version": "3.12.0"
  }
 },
 "nbformat": 4,
 "nbformat_minor": 2
}
